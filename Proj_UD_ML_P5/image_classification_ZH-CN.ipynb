{
 "cells": [
  {
   "cell_type": "markdown",
   "metadata": {
    "collapsed": true
   },
   "source": [
    "# Image Classification\n",
    "In this project, you'll classify images from the [CIFAR-10 dataset](https://www.cs.toronto.edu/~kriz/cifar.html).  The dataset consists of airplanes, dogs, cats, and other objects. You'll preprocess the images, then train a convolutional neural network on all the samples. The images need to be normalized and the labels need to be one-hot encoded.  You'll get to apply what you learned and build a convolutional, max pooling, dropout, and fully connected layers.  At the end, you'll get to see your neural network's predictions on the sample images.\n",
    "## Get the Data\n",
    "Run the following cell to download the [CIFAR-10 dataset for python](https://www.cs.toronto.edu/~kriz/cifar-10-python.tar.gz)."
   ]
  },
  {
   "cell_type": "markdown",
   "metadata": {},
   "source": [
    "\n",
    "# 图像分类\n",
    "\n",
    "在该项目中，你将会对来自 [CIFAR-10 数据集](https://www.cs.toronto.edu/~kriz/cifar.html) 中的图像进行分类。数据集中图片的内容包括飞机（airplane）、狗（dogs）、猫（cats）及其他物体。你需要处理这些图像，接着对所有的样本训练一个卷积神经网络。\n",
    "\n",
    "具体而言，在项目中你要对图像进行正规化处理（normalization)，同时还要对图像的标签进行 one-hot 编码。接着你将会应用到你所学的技能来搭建一个具有卷积层、最大池化（Max Pooling）层、Dropout  层及全连接（fully connected）层的神经网络。最后，你会训练你的神经网络，会得到你神经网络在样本图像上的预测结果。\n",
    "\n",
    "## 下载数据\n",
    "\n",
    "运行如下代码下载 [CIFAR-10 dataset for python](https://www.cs.toronto.edu/~kriz/cifar-10-python.tar.gz)。"
   ]
  },
  {
   "cell_type": "code",
   "execution_count": 1,
   "metadata": {},
   "outputs": [
    {
     "name": "stdout",
     "output_type": "stream",
     "text": [
      "All files found!\n"
     ]
    }
   ],
   "source": [
    "\"\"\"\n",
    "DON'T MODIFY ANYTHING IN THIS CELL THAT IS BELOW THIS LINE\n",
    "\"\"\"\n",
    "from urllib.request import urlretrieve\n",
    "from os.path import isfile, isdir\n",
    "from tqdm import tqdm\n",
    "import problem_unittests as tests\n",
    "import tarfile\n",
    "\n",
    "cifar10_dataset_folder_path = 'cifar-10-batches-py'\n",
    "\n",
    "class DLProgress(tqdm):\n",
    "    last_block = 0\n",
    "\n",
    "    def hook(self, block_num=1, block_size=1, total_size=None):\n",
    "        self.total = total_size\n",
    "        self.update((block_num - self.last_block) * block_size)\n",
    "        self.last_block = block_num\n",
    "\n",
    "if not isfile('cifar-10-python.tar.gz'):\n",
    "    with DLProgress(unit='B', unit_scale=True, miniters=1, desc='CIFAR-10 Dataset') as pbar:\n",
    "        urlretrieve(\n",
    "            'https://www.cs.toronto.edu/~kriz/cifar-10-python.tar.gz',\n",
    "            'cifar-10-python.tar.gz',\n",
    "            pbar.hook)\n",
    "\n",
    "if not isdir(cifar10_dataset_folder_path):\n",
    "    with tarfile.open('cifar-10-python.tar.gz') as tar:\n",
    "        tar.extractall()\n",
    "        tar.close()\n",
    "\n",
    "\n",
    "tests.test_folder_path(cifar10_dataset_folder_path)"
   ]
  },
  {
   "cell_type": "markdown",
   "metadata": {},
   "source": [
    "## Explore the Data\n",
    "The dataset is broken into batches to prevent your machine from running out of memory.  The CIFAR-10 dataset consists of 5 batches, named `data_batch_1`, `data_batch_2`, etc.. Each batch contains the labels and images that are one of the following:\n",
    "* airplane\n",
    "* automobile\n",
    "* bird\n",
    "* cat\n",
    "* deer\n",
    "* dog\n",
    "* frog\n",
    "* horse\n",
    "* ship\n",
    "* truck\n",
    "\n",
    "Understanding a dataset is part of making predictions on the data.  Play around with the code cell below by changing the `batch_id` and `sample_id`. The `batch_id` is the id for a batch (1-5). The `sample_id` is the id for a image and label pair in the batch.\n",
    "\n",
    "Ask yourself \"What are all possible labels?\", \"What is the range of values for the image data?\", \"Are the labels in order or random?\".  Answers to questions like these will help you preprocess the data and end up with better predictions."
   ]
  },
  {
   "cell_type": "markdown",
   "metadata": {},
   "source": [
    "## 探索数据集\n",
    "\n",
    "\n",
    "为防止在运行过程中内存不足的问题，该数据集已经事先被分成了5批（batch），名为`data_batch_1`、`data_batch_2`等。每一批中都含有 *图像* 及对应的 *标签*，都是如下类别中的一种：\n",
    "\n",
    "* 飞机\n",
    "* 汽车\n",
    "* 鸟\n",
    "* 鹿\n",
    "* 狗\n",
    "* 青蛙\n",
    "* 马\n",
    "* 船\n",
    "* 卡车\n",
    "\n",
    "理解数据集也是对数据进行预测的一部分。修改如下代码中的 `batch_id` 和 `sample_id`，看看输出的图像是什么样子。其中，`batch_id` 代表着批次数（1-5），`sample_id` 代表着在该批内图像及标签的编号。\n",
    "\n",
    "你可以尝试回答如下问题：\n",
    "* 可能出现的 *标签* 都包括哪些？\n",
    "* 图像数据的取值范围是多少？\n",
    "* *标签* 的排列顺序是随机的还是有序的？\n",
    "\n",
    "对这些问题的回答，会有助于更好地处理数据，并能更好地进行预测。"
   ]
  },
  {
   "cell_type": "markdown",
   "metadata": {},
   "source": [
    "### 回答：\n",
    "- 可能出现的标签包括batch_id, sample_id以及图像名称。\n",
    "- 色彩范围：0-255。\n",
    "- 标签的排列应该是随机的。"
   ]
  },
  {
   "cell_type": "code",
   "execution_count": 2,
   "metadata": {
    "scrolled": false
   },
   "outputs": [
    {
     "name": "stdout",
     "output_type": "stream",
     "text": [
      "\n",
      "Stats of batch 5:\n",
      "Samples: 10000\n",
      "Label Counts: {0: 1014, 1: 1014, 2: 952, 3: 1016, 4: 997, 5: 1025, 6: 980, 7: 977, 8: 1003, 9: 1022}\n",
      "First 20 Labels: [1, 8, 5, 1, 5, 7, 4, 3, 8, 2, 7, 2, 0, 1, 5, 9, 6, 2, 0, 8]\n",
      "\n",
      "Example of Image 9999:\n",
      "Image - Min Value: 4 Max Value: 255\n",
      "Image - Shape: (32, 32, 3)\n",
      "Label - Label Id: 1 Name: automobile\n"
     ]
    },
    {
     "data": {
      "image/png": "[encoded data removed]",
      "text/plain": [
       "<matplotlib.figure.Figure at 0x24458aab908>"
      ]
     },
     "metadata": {
      "image/png": {
       "height": 250,
       "width": 253
      }
     },
     "output_type": "display_data"
    }
   ],
   "source": [
    "%matplotlib inline\n",
    "%config InlineBackend.figure_format = 'retina'\n",
    "\n",
    "import helper\n",
    "import numpy as np\n",
    "\n",
    "# Explore the dataset\n",
    "batch_id = 5\n",
    "sample_id = 9999\n",
    "helper.display_stats(cifar10_dataset_folder_path, batch_id, sample_id)"
   ]
  },
  {
   "cell_type": "markdown",
   "metadata": {},
   "source": [
    "## Implement Preprocess Functions\n",
    "### Normalize\n",
    "In the cell below, implement the `normalize` function to take in image data, `x`, and return it as a normalized Numpy array. The values should be in the range of 0 to 1, inclusive.  The return object should be the same shape as `x`."
   ]
  },
  {
   "cell_type": "markdown",
   "metadata": {},
   "source": [
    "## 图像预处理功能的实现\n",
    "### 正规化\n",
    "\n",
    "在如下的代码中，修改 `normalize` 函数，使之能够对输入的图像数据 `x` 进行处理，输出一个经过正规化的、Numpy array 格式的图像数据。\n",
    "\n",
    "**注意：**\n",
    "处理后的值应当在 $[0,1]$ 的范围之内。返回值应当和输入值具有相同的形状。"
   ]
  },
  {
   "cell_type": "code",
   "execution_count": 3,
   "metadata": {},
   "outputs": [
    {
     "name": "stdout",
     "output_type": "stream",
     "text": [
      "Tests Passed\n"
     ]
    }
   ],
   "source": [
    "def normalize(x):\n",
    "    \"\"\"\n",
    "    Normalize a list of sample image data in the range of 0 to 1\n",
    "    : x: List of image data.  The image shape is (32, 32, 3)\n",
    "    : return: Numpy array of normalize data\n",
    "    \"\"\"\n",
    "    # TODO: Implement Function\n",
    "    # 正则化不需要用到tensorflow,使用numpy即可\n",
    "    return x / (np.max(x)-np.min(x))\n",
    "\n",
    "\n",
    "\"\"\"\n",
    "DON'T MODIFY ANYTHING IN THIS CELL THAT IS BELOW THIS LINE\n",
    "\"\"\"\n",
    "tests.test_normalize(normalize)"
   ]
  },
  {
   "cell_type": "markdown",
   "metadata": {},
   "source": [
    "### One-hot encode\n",
    "Just like the previous code cell, you'll be implementing a function for preprocessing.  This time, you'll implement the `one_hot_encode` function. The input, `x`, are a list of labels.  Implement the function to return the list of labels as One-Hot encoded Numpy array.  The possible values for labels are 0 to 9. The one-hot encoding function should return the same encoding for each value between each call to `one_hot_encode`.  Make sure to save the map of encodings outside the function.\n",
    "\n",
    "**Hint:**\n",
    "\n",
    "Look into LabelBinarizer in the preprocessing module of sklearn."
   ]
  },
  {
   "cell_type": "markdown",
   "metadata": {},
   "source": [
    "### One-hot 编码\n",
    "\n",
    "在如下代码中，你将继续实现预处理的功能，实现一个 `one_hot_encode` 函数。函数的输入 `x` 是 *标签* 构成的列表，返回值是经过 One_hot 处理过后的这列 *标签* 对应的 One_hot 编码，以 Numpy array 储存。其中，*标签* 的取值范围从0到9。每次调用该函数时，对相同的标签值，它输出的编码也是相同的。请确保在函数外保存编码的映射（map of encodings）。\n",
    "\n",
    "**提示：**\n",
    "\n",
    "你可以尝试使用 sklearn preprocessing 模块中的 `LabelBinarizer` 函数。"
   ]
  },
  {
   "cell_type": "code",
   "execution_count": 4,
   "metadata": {},
   "outputs": [
    {
     "name": "stdout",
     "output_type": "stream",
     "text": [
      "Tests Passed\n"
     ]
    }
   ],
   "source": [
    "from sklearn.preprocessing import LabelBinarizer\n",
    "\n",
    "lb = LabelBinarizer()\n",
    "lb.fit(range(10))\n",
    "\n",
    "def one_hot_encode(x):\n",
    "    \"\"\"\n",
    "    One hot encode a list of sample labels. Return a one-hot encoded vector for each label.\n",
    "    : x: List of sample Labels\n",
    "    : return: Numpy array of one-hot encoded labels\n",
    "    \"\"\"\n",
    "    # TODO: Implement Function\n",
    "    return lb.transform(x)\n",
    "\n",
    "\"\"\"\n",
    "DON'T MODIFY ANYTHING IN THIS CELL THAT IS BELOW THIS LINE\n",
    "\"\"\"\n",
    "tests.test_one_hot_encode(one_hot_encode)"
   ]
  },
  {
   "cell_type": "markdown",
   "metadata": {},
   "source": [
    "### Randomize Data\n",
    "As you saw from exploring the data above, the order of the samples are randomized.  It doesn't hurt to randomize it again, but you don't need to for this dataset."
   ]
  },
  {
   "cell_type": "markdown",
   "metadata": {},
   "source": [
    "### 随机打乱数据\n",
    "\n",
    "正如你在上方探索数据部分所看到的，样本的顺序已经被随机打乱了。尽管再随机处理一次也没问题，不过对于该数据我们没必要再进行一次相关操作了。"
   ]
  },
  {
   "cell_type": "markdown",
   "metadata": {},
   "source": [
    "## Preprocess all the data and save it\n",
    "Running the code cell below will preprocess all the CIFAR-10 data and save it to file. The code below also uses 10% of the training data for validation."
   ]
  },
  {
   "cell_type": "markdown",
   "metadata": {},
   "source": [
    "## 对所有图像数据进行预处理并保存结果\n",
    "\n",
    "运行如下代码，它将会预处理所有的 CIFAR-10 数据并将它另存为文件。此外，如下的代码还将会把 10% 的训练数据留出作为验证数据。"
   ]
  },
  {
   "cell_type": "code",
   "execution_count": 5,
   "metadata": {
    "collapsed": true
   },
   "outputs": [],
   "source": [
    "\"\"\"\n",
    "DON'T MODIFY ANYTHING IN THIS CELL\n",
    "\"\"\"\n",
    "# Preprocess Training, Validation, and Testing Data\n",
    "helper.preprocess_and_save_data(cifar10_dataset_folder_path, normalize, one_hot_encode)"
   ]
  },
  {
   "cell_type": "markdown",
   "metadata": {},
   "source": [
    "# Check Point\n",
    "This is your first checkpoint.  If you ever decide to come back to this notebook or have to restart the notebook, you can start from here.  The preprocessed data has been saved to disk."
   ]
  },
  {
   "cell_type": "markdown",
   "metadata": {},
   "source": [
    "# 检查点\n",
    "\n",
    "这是你的首个检查点。因为预处理完的数据已经被保存到硬盘上了，所以如果你需要回顾或重启该 notebook，你可以在这里重新开始。"
   ]
  },
  {
   "cell_type": "code",
   "execution_count": 6,
   "metadata": {
    "collapsed": true
   },
   "outputs": [],
   "source": [
    "\"\"\"\n",
    "DON'T MODIFY ANYTHING IN THIS CELL\n",
    "\"\"\"\n",
    "import pickle\n",
    "import problem_unittests as tests\n",
    "import helper\n",
    "\n",
    "# Load the Preprocessed Validation data\n",
    "valid_features, valid_labels = pickle.load(open('preprocess_validation.p', mode='rb'))"
   ]
  },
  {
   "cell_type": "markdown",
   "metadata": {},
   "source": [
    "## Build the network\n",
    "For the neural network, you'll build each layer into a function.  Most of the code you've seen has been outside of functions. To test your code more thoroughly, we require that you put each layer in a function.  This allows us to give you better feedback and test for simple mistakes using our unittests before you submit your project.\n",
    "\n",
    ">**Note:** If you're finding it hard to dedicate enough time for this course each week, we've provided a small shortcut to this part of the project. In the next couple of problems, you'll have the option to use classes from the [TensorFlow Layers](https://www.tensorflow.org/api_docs/python/tf/layers) or [TensorFlow Layers (contrib)](https://www.tensorflow.org/api_guides/python/contrib.layers) packages to build each layer, except the layers you build in the \"Convolutional and Max Pooling Layer\" section.  TF Layers is similar to Keras's and TFLearn's abstraction to layers, so it's easy to pickup.\n",
    "\n",
    ">However, if you would like to get the most out of this course, try to solve all the problems _without_ using anything from the TF Layers packages. You **can** still use classes from other packages that happen to have the same name as ones you find in TF Layers! For example, instead of using the TF Layers version of the `conv2d` class, [tf.layers.conv2d](https://www.tensorflow.org/api_docs/python/tf/layers/conv2d), you would want to use the TF Neural Network version of `conv2d`, [tf.nn.conv2d](https://www.tensorflow.org/api_docs/python/tf/nn/conv2d). \n",
    "\n",
    "Let's begin!\n",
    "\n",
    "### Input\n",
    "The neural network needs to read the image data, one-hot encoded labels, and dropout keep probability. Implement the following functions\n",
    "* Implement `neural_net_image_input`\n",
    " * Return a [TF Placeholder](https://www.tensorflow.org/api_docs/python/tf/placeholder)\n",
    " * Set the shape using `image_shape` with batch size set to `None`.\n",
    " * Name the TensorFlow placeholder \"x\" using the TensorFlow `name` parameter in the [TF Placeholder](https://www.tensorflow.org/api_docs/python/tf/placeholder).\n",
    "* Implement `neural_net_label_input`\n",
    " * Return a [TF Placeholder](https://www.tensorflow.org/api_docs/python/tf/placeholder)\n",
    " * Set the shape using `n_classes` with batch size set to `None`.\n",
    " * Name the TensorFlow placeholder \"y\" using the TensorFlow `name` parameter in the [TF Placeholder](https://www.tensorflow.org/api_docs/python/tf/placeholder).\n",
    "* Implement `neural_net_keep_prob_input`\n",
    " * Return a [TF Placeholder](https://www.tensorflow.org/api_docs/python/tf/placeholder) for dropout keep probability.\n",
    " * Name the TensorFlow placeholder \"keep_prob\" using the TensorFlow `name` parameter in the [TF Placeholder](https://www.tensorflow.org/api_docs/python/tf/placeholder).\n",
    "\n",
    "These names will be used at the end of the project to load your saved model.\n",
    "\n",
    "Note: `None` for shapes in TensorFlow allow for a dynamic size."
   ]
  },
  {
   "cell_type": "markdown",
   "metadata": {},
   "source": [
    "## 搭建神经网络\n",
    "\n",
    "为搭建神经网络，你需要将搭建每一层的过程封装到一个函数中。大部分的代码你在函数外已经见过。为能够更透彻地测试你的代码，我们要求你把每一层都封装到一个函数中。这能够帮助我们给予你更好的回复，同时还能让我们使用 unittests 在你提交报告前检测出你项目中的小问题。\n",
    "\n",
    ">**注意：** 如果你时间紧迫，那么在该部分我们为你提供了一个便捷方法。在接下来的一些问题中，你可以使用来自 [TensorFlow Layers](https://www.tensorflow.org/api_docs/python/tf/layers) 或 [TensorFlow Layers (contrib)](https://www.tensorflow.org/api_guides/python/contrib.layers) 包中的函数来搭建各层，不过不可以用他们搭建卷积-最大池化层。TF Layers 和 Keras 及 TFLean 中对层的抽象比较相似，所以你应该很容易上手。\n",
    "\n",
    ">\n",
    "\n",
    "\n",
    "However, if you would like to get the most out of this course, try to solve all the problems _without_ using anything from the TF Layers packages. You **can** still use classes from other packages that happen to have the same name as ones you find in TF Layers! For example, instead of using the TF Layers version of the `conv2d` class, [tf.layers.conv2d](https://www.tensorflow.org/api_docs/python/tf/layers/conv2d), you would want to use the TF Neural Network version of `conv2d`, [tf.nn.conv2d](https://www.tensorflow.org/api_docs/python/tf/nn/conv2d). \n",
    "\n",
    "不过，如果你希望能够更多地实践，我们希望你能够在**不**使用 TF Layers 的情况下解决所有问题。你依然**能**使用来自其他包但和 layers 中重名的函数。例如，你可以使用 TF Neural Network 版本的 `conv_2d\n",
    "\n",
    "让我们开始吧！\n",
    "\n",
    "### 输入\n",
    "\n",
    "神经网络需要能够读取图像数据、经 one-hot 编码之后的标签及 dropout 中的保留概率。修改如下函数：\n",
    "\n",
    "* 修改 `neural_net_image_input` 函数：\n",
    " * 返回 [TF Placeholder](https://www.tensorflow.org/api_docs/python/tf/placeholder)。\n",
    " * 使用 `image_shape` 设定形状，设定批大小（batch size)为 `None`。\n",
    " * 使用 [TF Placeholder](https://www.tensorflow.org/api_docs/python/tf/placeholder) 中的 `Name` 参数，命名该 TensorFlow placeholder 为 \"x\"。\n",
    "* 修改 `neural_net_label_input` 函数： \n",
    " * 返回 [TF Placeholder](https://www.tensorflow.org/api_docs/python/tf/placeholder)。\n",
    " * 使用 `n_classes` 设定形状，设定批大小（batch size)为 `None`。\n",
    " * 使用 [TF Placeholder](https://www.tensorflow.org/api_docs/python/tf/placeholder) 中的 `Name` 参数，命名该 TensorFlow placeholder 为 \"y\"。\n",
    "* 修改 `neural_net_keep_prob_input` 函数：\n",
    " * 返回 [TF Placeholder](https://www.tensorflow.org/api_docs/python/tf/placeholder) 作为 dropout 的保留概率（keep probability）。\n",
    " * 使用 [TF Placeholder](https://www.tensorflow.org/api_docs/python/tf/placeholder) 中的 `Name` 参数，命名该 TensorFlow placeholder 为 \"keep_prob\"。\n",
    " \n",
    "我们会在项目最后使用这些名字，来载入你储存的模型。\n",
    "\n",
    "**注意：**在 TensorFlow 中，对形状设定为 `None`，能帮助设定一个动态的大小。"
   ]
  },
  {
   "cell_type": "code",
   "execution_count": 7,
   "metadata": {},
   "outputs": [
    {
     "name": "stdout",
     "output_type": "stream",
     "text": [
      "Image Input Tests Passed.\n",
      "Label Input Tests Passed.\n",
      "Keep Prob Tests Passed.\n"
     ]
    }
   ],
   "source": [
    "import tensorflow as tf\n",
    "\n",
    "batch_size = None\n",
    "\n",
    "def neural_net_image_input(image_shape):\n",
    "    \"\"\"\n",
    "    Return a Tensor for a batch of image input\n",
    "    : image_shape: Shape of the images\n",
    "    : return: Tensor for image input.\n",
    "    \"\"\"\n",
    "    # TODO: Implement Function\n",
    "    return tf.placeholder(tf.float32, shape=[batch_size, image_shape[0], image_shape[1], image_shape[2]], name='x')\n",
    "\n",
    "\n",
    "def neural_net_label_input(n_classes):\n",
    "    \"\"\"\n",
    "    Return a Tensor for a batch of label input\n",
    "    : n_classes: Number of classes\n",
    "    : return: Tensor for label input.\n",
    "    \"\"\"\n",
    "    # TODO: Implement Function\n",
    "    return tf.placeholder(tf.float32, shape=[batch_size, n_classes], name='y')\n",
    "\n",
    "\n",
    "def neural_net_keep_prob_input():\n",
    "    \"\"\"\n",
    "    Return a Tensor for keep probability\n",
    "    : return: Tensor for keep probability.\n",
    "    \"\"\"\n",
    "    # TODO: Implement Function\n",
    "    return tf.placeholder(tf.float32, name='keep_prob')\n",
    "\n",
    "\n",
    "\"\"\"\n",
    "DON'T MODIFY ANYTHING IN THIS CELL THAT IS BELOW THIS LINE\n",
    "\"\"\"\n",
    "tf.reset_default_graph()\n",
    "tests.test_nn_image_inputs(neural_net_image_input)\n",
    "tests.test_nn_label_inputs(neural_net_label_input)\n",
    "tests.test_nn_keep_prob_inputs(neural_net_keep_prob_input)"
   ]
  },
  {
   "cell_type": "markdown",
   "metadata": {},
   "source": [
    "### Convolution and Max Pooling Layer\n",
    "Convolution layers have a lot of success with images. For this code cell, you should implement the function `conv2d_maxpool` to apply convolution then max pooling:\n",
    "* Create the weight and bias using `conv_ksize`, `conv_num_outputs` and the shape of `x_tensor`.\n",
    "* Apply a convolution to `x_tensor` using weight and `conv_strides`.\n",
    " * We recommend you use same padding, but you're welcome to use any padding.\n",
    "* Add bias\n",
    "* Add a nonlinear activation to the convolution.\n",
    "* Apply Max Pooling using `pool_ksize` and `pool_strides`.\n",
    " * We recommend you use same padding, but you're welcome to use any padding.\n",
    "\n",
    "**Note:** You **can't** use [TensorFlow Layers](https://www.tensorflow.org/api_docs/python/tf/layers) or [TensorFlow Layers (contrib)](https://www.tensorflow.org/api_guides/python/contrib.layers) for **this** layer, but you can still use TensorFlow's [Neural Network](https://www.tensorflow.org/api_docs/python/tf/nn) package. You may still use the shortcut option for all the **other** layers.\n",
    "\n",
    "** Hint: **\n",
    "\n",
    "When unpacking values as an argument in Python, look into the [unpacking](https://docs.python.org/3/tutorial/controlflow.html#unpacking-argument-lists) operator. "
   ]
  },
  {
   "cell_type": "markdown",
   "metadata": {},
   "source": [
    "### 卷积-最大池（Convolution and Max Pooling）化层\n",
    "\n",
    "卷积层在图像处理中取得了不小的成功。在这部分的代码中，你需要修改 `conv2d_maxpool` 函数来先后实现卷积及最大池化的功能。\n",
    "\n",
    "* 使用 `conv_ksize`、`conv_num_outputs` 及 `x_tensor` 来创建权重（weight）及偏差（bias）变量。\n",
    "* 对 `x_tensor` 进行卷积，使用 `conv_strides` 及*权重*。\n",
    " * 我们建议使用 SAME padding，不过你也可尝试其他 padding 模式。 \n",
    "* 加上*偏差*。\n",
    "* 对卷积结果加上一个非线性函数作为激活层。\n",
    "* 基于 `pool_kszie` 及 `pool_strides` 进行最大池化。\n",
    " * 我们建议使用 SAME padding，不过你也可尝试其他 padding 模式。\n",
    " \n",
    "**注意：**\n",
    "你**不**可以使用来自 [TensorFlow Layers](https://www.tensorflow.org/api_docs/python/tf/layers) 或 [TensorFlow Layers (contrib)](https://www.tensorflow.org/api_guides/python/contrib.layers) 包中的函数来实现**这一层**的功能。但是你可以使用 TensorFlow 的[Neural Network](https://www.tensorflow.org/api_docs/python/tf/nn)包。\n",
    "\n",
    "对于如上的快捷方法，你在**其他层**中可以尝试使用。\n",
    "\n",
    "\n",
    "**提示：**\n",
    "当你在 Python 中希望展开（unpacking）某个变量的值作为函数的参数，你可以参考 [unpacking](https://docs.python.org/3/tutorial/controlflow.html#unpacking-argument-lists) 运算符。"
   ]
  },
  {
   "cell_type": "code",
   "execution_count": 8,
   "metadata": {},
   "outputs": [
    {
     "name": "stdout",
     "output_type": "stream",
     "text": [
      "Tests Passed\n"
     ]
    }
   ],
   "source": [
    "def conv2d_maxpool(x_tensor, conv_num_outputs, conv_ksize, conv_strides, pool_ksize, pool_strides):\n",
    "    \"\"\"\n",
    "    Apply convolution then max pooling to x_tensor\n",
    "    :param x_tensor: TensorFlow Tensor\n",
    "    :param conv_num_outputs: Number of outputs for the convolutional layer\n",
    "    :param conv_ksize: kernal size 2-D Tuple for the convolutional layer\n",
    "    :param conv_strides: Stride 2-D Tuple for convolution\n",
    "    :param pool_ksize: kernal size 2-D Tuple for pool\n",
    "    :param pool_strides: Stride 2-D Tuple for pool\n",
    "    : return: A tensor that represents convolution and max pooling of x_tensor\n",
    "    \"\"\"\n",
    "    # TODO: Implement Function\n",
    "    padding = 'SAME'\n",
    "      \n",
    "    # color channels\n",
    "    color_channels = int(x_tensor.shape[3])\n",
    "    \n",
    "    # calculate weight and bias\n",
    "    weight = tf.Variable(tf.truncated_normal([*conv_ksize, color_channels, conv_num_outputs]))\n",
    "    bias = tf.Variable(tf.zeros(conv_num_outputs))\n",
    "\n",
    "    # converlutional layer\n",
    "    x_in = x_tensor  \n",
    "    c_strides = [1, *conv_strides, 1]\n",
    "    \n",
    "    conv_layer = tf.nn.conv2d(x_in, weight, c_strides, padding)\n",
    "    conv_layer = tf.nn.bias_add(conv_layer, bias)\n",
    "    conv_layer = tf.nn.sigmoid(conv_layer)\n",
    "\n",
    "    # pooling layer\n",
    "    p_ksize = [1, *pool_ksize, 1]\n",
    "    p_strides = [1, *pool_strides, 1]\n",
    "    pool = tf.nn.max_pool(conv_layer, p_ksize, p_strides, padding)\n",
    "    return pool\n",
    "\n",
    "\"\"\"\n",
    "DON'T MODIFY ANYTHING IN THIS CELL THAT IS BELOW THIS LINE\n",
    "\"\"\"\n",
    "tests.test_con_pool(conv2d_maxpool)"
   ]
  },
  {
   "cell_type": "markdown",
   "metadata": {},
   "source": [
    "### Flatten Layer\n",
    "Implement the `flatten` function to change the dimension of `x_tensor` from a 4-D tensor to a 2-D tensor.  The output should be the shape (*Batch Size*, *Flattened Image Size*). Shortcut option: you can use classes from the [TensorFlow Layers](https://www.tensorflow.org/api_docs/python/tf/layers) or [TensorFlow Layers (contrib)](https://www.tensorflow.org/api_guides/python/contrib.layers) packages for this layer. For more of a challenge, only use other TensorFlow packages."
   ]
  },
  {
   "cell_type": "markdown",
   "metadata": {},
   "source": [
    "### 展开层\n",
    "\n",
    "修改 `flatten` 函数，来将4维的输入张量 `x_tensor` 转换为一个二维的张量。输出的形状应当是 `(Batch Size, Flattened Image Size)`。\n",
    "快捷方法：你可以使用来自 [TensorFlow Layers](https://www.tensorflow.org/api_docs/python/tf/layers) 或 [TensorFlow Layers (contrib)](https://www.tensorflow.org/api_guides/python/contrib.layers) 包中的函数来实现该功能。不过你也可以只使用 TensorFlow 包中的函数来挑战自己。"
   ]
  },
  {
   "cell_type": "code",
   "execution_count": 9,
   "metadata": {},
   "outputs": [
    {
     "name": "stdout",
     "output_type": "stream",
     "text": [
      "Tests Passed\n"
     ]
    }
   ],
   "source": [
    "def flatten(x_tensor):\n",
    "    \"\"\"\n",
    "    Flatten x_tensor to (Batch Size, Flattened Image Size)\n",
    "    : x_tensor: A tensor of size (Batch Size, ...), where ... are the image dimensions.\n",
    "    : return: A tensor of size (Batch Size, Flattened Image Size).\n",
    "    \"\"\"\n",
    "    # TODO: Implement Function\n",
    "    return tf.contrib.layers.flatten(x_tensor)\n",
    "\n",
    "\n",
    "\"\"\"\n",
    "DON'T MODIFY ANYTHING IN THIS CELL THAT IS BELOW THIS LINE\n",
    "\"\"\"\n",
    "tests.test_flatten(flatten)"
   ]
  },
  {
   "cell_type": "markdown",
   "metadata": {},
   "source": [
    "### Fully-Connected Layer\n",
    "Implement the `fully_conn` function to apply a fully connected layer to `x_tensor` with the shape (*Batch Size*, *num_outputs*). Shortcut option: you can use classes from the [TensorFlow Layers](https://www.tensorflow.org/api_docs/python/tf/layers) or [TensorFlow Layers (contrib)](https://www.tensorflow.org/api_guides/python/contrib.layers) packages for this layer. For more of a challenge, only use other TensorFlow packages."
   ]
  },
  {
   "cell_type": "markdown",
   "metadata": {},
   "source": [
    "### 全连接层\n",
    "\n",
    "修改 `fully_conn` 函数，来对形如 `(batch Size, num_outputs)` 的输入 `x_tensor` 应用一个全连接层。快捷方法：你可以使用来自 [TensorFlow Layers](https://www.tensorflow.org/api_docs/python/tf/layers) 或 [TensorFlow Layers (contrib)](https://www.tensorflow.org/api_guides/python/contrib.layers) 包中的函数来实现该功能。不过你也可以只使用 TensorFlow 包中的函数来挑战自己。"
   ]
  },
  {
   "cell_type": "code",
   "execution_count": 10,
   "metadata": {},
   "outputs": [
    {
     "name": "stdout",
     "output_type": "stream",
     "text": [
      "Tests Passed\n"
     ]
    }
   ],
   "source": [
    "def fully_conn(x_tensor, num_outputs):\n",
    "    \"\"\"\n",
    "    Apply a fully connected layer to x_tensor using weight and bias \n",
    "    : x_tensor: A 2-D tensor where the first dimension is batch size.\n",
    "    : num_outputs: The number of output that the new tensor should be.\n",
    "    : return: A 2-D tensor where the second dimension is num_outputs.\n",
    "    \"\"\"\n",
    "    # TODO: Implement Function\n",
    "    return tf.contrib.layers.fully_connected(x_tensor, num_outputs)\n",
    "\n",
    "\n",
    "\"\"\"\n",
    "DON'T MODIFY ANYTHING IN THIS CELL THAT IS BELOW THIS LINE\n",
    "\"\"\"\n",
    "tests.test_fully_conn(fully_conn)"
   ]
  },
  {
   "cell_type": "markdown",
   "metadata": {},
   "source": [
    "### Output Layer\n",
    "Implement the `output` function to apply a fully connected layer to `x_tensor` with the shape (*Batch Size*, *num_outputs*). Shortcut option: you can use classes from the [TensorFlow Layers](https://www.tensorflow.org/api_docs/python/tf/layers) or [TensorFlow Layers (contrib)](https://www.tensorflow.org/api_guides/python/contrib.layers) packages for this layer. For more of a challenge, only use other TensorFlow packages.\n",
    "\n",
    "**Note:** Activation, softmax, or cross entropy should **not** be applied to this."
   ]
  },
  {
   "cell_type": "markdown",
   "metadata": {},
   "source": [
    "### 输出层\n",
    "\n",
    "修改 `output` 函数，来对形如 `(batch Size, num_outputs)` 的输入 `x_tensor` 应用一个全连接层。快捷方法：你可以使用来自 [TensorFlow Layers](https://www.tensorflow.org/api_docs/python/tf/layers) 或 [TensorFlow Layers (contrib)](https://www.tensorflow.org/api_guides/python/contrib.layers) 包中的函数来实现该功能。不过你也可以只使用 TensorFlow 包中的函数来挑战自己。\n",
    "\n",
    "**注意：**\n",
    "激活函数、softmax 或者交叉熵（corss entropy）**不**应被加入到该层。"
   ]
  },
  {
   "cell_type": "code",
   "execution_count": 11,
   "metadata": {},
   "outputs": [
    {
     "name": "stdout",
     "output_type": "stream",
     "text": [
      "Tests Passed\n"
     ]
    }
   ],
   "source": [
    "def output(x_tensor, num_outputs):\n",
    "    \"\"\"\n",
    "    Apply a output layer to x_tensor using weight and bias\n",
    "    : x_tensor: A 2-D tensor where the first dimension is batch size.\n",
    "    : num_outputs: The number of output that the new tensor should be.\n",
    "    : return: A 2-D tensor where the second dimension is num_outputs.\n",
    "    \"\"\"\n",
    "    # TODO: Implement Function\n",
    "    return tf.contrib.layers.linear(x_tensor, num_outputs)\n",
    "#     return tf.contrib.layers.fully_connected(x_tensor, num_outputs, activation_fn=tf.sigmoid)\n",
    "\n",
    "\n",
    "\"\"\"\n",
    "DON'T MODIFY ANYTHING IN THIS CELL THAT IS BELOW THIS LINE\n",
    "\"\"\"\n",
    "tests.test_output(output)"
   ]
  },
  {
   "cell_type": "markdown",
   "metadata": {},
   "source": [
    "### Create Convolutional Model\n",
    "Implement the function `conv_net` to create a convolutional neural network model. The function takes in a batch of images, `x`, and outputs logits.  Use the layers you created above to create this model:\n",
    "\n",
    "* Apply 1, 2, or 3 Convolution and Max Pool layers\n",
    "* Apply a Flatten Layer\n",
    "* Apply 1, 2, or 3 Fully Connected Layers\n",
    "* Apply an Output Layer\n",
    "* Return the output\n",
    "* Apply [TensorFlow's Dropout](https://www.tensorflow.org/api_docs/python/tf/nn/dropout) to one or more layers in the model using `keep_prob`. "
   ]
  },
  {
   "cell_type": "markdown",
   "metadata": {},
   "source": [
    "### 创建卷积模型\n",
    "\n",
    "修改 `conv_net` 函数，使之能够生成一个卷积神经网络模型。该函数的输入为一批图像数据 `x`，输出为 logits。在函数中，使用上方你修改的创建各种层的函数来创建该模型：\n",
    "\n",
    "* 使用 1 到 3 个卷积-最大池化层\n",
    "* 使用一个展开层\n",
    "* 使用 1 到 3 个全连接层\n",
    "* 使用一个输出层\n",
    "* 返回呼出结果\n",
    "* 在一个或多个层上使用 [TensorFlow's Dropout](https://www.tensorflow.org/api_docs/python/tf/nn/dropout)，对应的保留概率为 `keep_prob`. "
   ]
  },
  {
   "cell_type": "code",
   "execution_count": 12,
   "metadata": {},
   "outputs": [
    {
     "name": "stdout",
     "output_type": "stream",
     "text": [
      "Neural Network Built!\n"
     ]
    }
   ],
   "source": [
    "def conv_net(x, keep_prob):\n",
    "    \"\"\"\n",
    "    Create a convolutional neural network model\n",
    "    : x: Placeholder tensor that holds image data.\n",
    "    : keep_prob: Placeholder tensor that hold dropout keep probability.\n",
    "    : return: Tensor that represents logits\n",
    "    \"\"\"\n",
    "    # TODO: Apply 1, 2, or 3 Convolution and Max Pool layers\n",
    "    #    Play around with different number of outputs, kernel size and stride\n",
    "    # Function Definition from Above:\n",
    "    #    conv2d_maxpool(x_tensor, conv_num_outputs, conv_ksize, conv_strides, pool_ksize, pool_strides)\n",
    "    \n",
    "    x_tensor = x\n",
    "    \n",
    "    pool_ksize = (2,2)\n",
    "    pool_strides = (1,1)\n",
    "    \n",
    "    # Conv_layer 1\n",
    "    conv_ksize = (4,4)\n",
    "    conv_strides = (2,2)\n",
    "    conv_num_outputs = 12    \n",
    "    conv_layer = conv2d_maxpool(x_tensor, conv_num_outputs, conv_ksize, conv_strides, pool_ksize, pool_strides)\n",
    "    \n",
    "    # Conv_layer 2\n",
    "    conv_ksize = (3,3)\n",
    "    conv_strides = (1,1)\n",
    "    conv_num_outputs = 48    \n",
    "    conv_layer = conv2d_maxpool(conv_layer, conv_num_outputs, conv_ksize, conv_strides, pool_ksize, pool_strides)\n",
    "    \n",
    "    # Conv_layer 3\n",
    "    conv_ksize = (2,2)\n",
    "    conv_strides = (2,2)\n",
    "    conv_num_outputs = 192    \n",
    "    conv_layer = conv2d_maxpool(conv_layer, conv_num_outputs, conv_ksize, conv_strides, pool_ksize, pool_strides)\n",
    "        \n",
    "\n",
    "    # TODO: Apply a Flatten Layer\n",
    "    # Function Definition from Above:\n",
    "    #   flatten(x_tensor)\n",
    "    flat_layer = flatten(conv_layer)\n",
    "\n",
    "    # TODO: Apply 1, 2, or 3 Fully Connected Layers\n",
    "    #    Play around with different number of outputs\n",
    "    # Function Definition from Above:\n",
    "    #   fully_conn(x_tensor, num_outputs)\n",
    "    \n",
    "    # fully_conn_layer 1\n",
    "    num_outputs = 1024\n",
    "    fully_conn_layer = tf.nn.dropout(flat_layer, keep_prob)\n",
    "    fully_conn_layer =  fully_conn(fully_conn_layer, num_outputs)\n",
    "    \n",
    "    # fully_conn_layer 2\n",
    "    num_outputs = 512    \n",
    "    fully_conn_layer = tf.nn.dropout(flat_layer, keep_prob)\n",
    "    fully_conn_layer =  fully_conn(fully_conn_layer, num_outputs)\n",
    "    \n",
    "    # fully_conn_layer 3\n",
    "    num_outputs = 128\n",
    "    fully_conn_layer = tf.nn.dropout(fully_conn_layer, keep_prob)\n",
    "    fully_conn_layer =  fully_conn(fully_conn_layer, num_outputs)\n",
    "    \n",
    "    # TODO: Apply an Output Layer\n",
    "    #    Set this to the number of classes\n",
    "    # Function Definition from Above:\n",
    "    #   output(x_tensor, num_outputs)\n",
    "    out_layer = output(fully_conn_layer, 10)\n",
    "    \n",
    "    # TODO: return output\n",
    "    return out_layer\n",
    "\n",
    "\n",
    "\"\"\"\n",
    "DON'T MODIFY ANYTHING IN THIS CELL THAT IS BELOW THIS LINE\n",
    "\"\"\"\n",
    "\n",
    "##############################\n",
    "## Build the Neural Network ##\n",
    "##############################\n",
    "\n",
    "# Remove previous weights, bias, inputs, etc..\n",
    "tf.reset_default_graph()\n",
    "\n",
    "# Inputs\n",
    "x = neural_net_image_input((32, 32, 3))\n",
    "y = neural_net_label_input(10)\n",
    "keep_prob = neural_net_keep_prob_input()\n",
    "\n",
    "# Model\n",
    "logits = conv_net(x, keep_prob)\n",
    "\n",
    "# Name logits Tensor, so that is can be loaded from disk after training\n",
    "logits = tf.identity(logits, name='logits')\n",
    "\n",
    "# Loss and Optimizer\n",
    "cost = tf.reduce_mean(tf.nn.softmax_cross_entropy_with_logits(logits=logits, labels=y))\n",
    "optimizer = tf.train.AdamOptimizer().minimize(cost)\n",
    "\n",
    "# Accuracy\n",
    "correct_pred = tf.equal(tf.argmax(logits, 1), tf.argmax(y, 1))\n",
    "accuracy = tf.reduce_mean(tf.cast(correct_pred, tf.float32), name='accuracy')\n",
    "\n",
    "tests.test_conv_net(conv_net)\n"
   ]
  },
  {
   "cell_type": "markdown",
   "metadata": {},
   "source": [
    "## Train the Neural Network\n",
    "### Single Optimization\n",
    "Implement the function `train_neural_network` to do a single optimization.  The optimization should use `optimizer` to optimize in `session` with a `feed_dict` of the following:\n",
    "* `x` for image input\n",
    "* `y` for labels\n",
    "* `keep_prob` for keep probability for dropout\n",
    "\n",
    "This function will be called for each batch, so `tf.global_variables_initializer()` has already been called.\n",
    "\n",
    "Note: Nothing needs to be returned. This function is only optimizing the neural network."
   ]
  },
  {
   "cell_type": "markdown",
   "metadata": {},
   "source": [
    "## 训练该神经网络\n",
    "\n",
    "### 最优化\n",
    "\n",
    "修改 `train_neural_network` 函数以执行单次最优化。该最优化过程应在一个 `session` 中使用 `optimizer` 来进行该过程，它的 `feed_dict` 包括：\n",
    "* `x` 代表输入图像\n",
    "* `y` 代表*标签*\n",
    "* `keep_prob` 为 Dropout 过程中的保留概率\n",
    "\n",
    "对每批数据该函数都会被调用，因而 `tf.global_variables_initializer()` 已经被调用过。\n",
    "\n",
    "注意：该函数并不要返回某个值，它只对神经网络进行最优化。"
   ]
  },
  {
   "cell_type": "code",
   "execution_count": 13,
   "metadata": {},
   "outputs": [
    {
     "name": "stdout",
     "output_type": "stream",
     "text": [
      "Tests Passed\n"
     ]
    }
   ],
   "source": [
    "def train_neural_network(session, optimizer, keep_probability, feature_batch, label_batch):\n",
    "    \"\"\"\n",
    "    Optimize the session on a batch of images and labels\n",
    "    : session: Current TensorFlow session\n",
    "    : optimizer: TensorFlow optimizer function\n",
    "    : keep_probability: keep probability\n",
    "    : feature_batch: Batch of Numpy image data\n",
    "    : label_batch: Batch of Numpy label data\n",
    "    \"\"\"\n",
    "    # TODO: Implement Function\n",
    "    session.run(optimizer, feed_dict={x: feature_batch,\n",
    "                                      y: label_batch,\n",
    "                                      keep_prob: keep_probability})\n",
    "    \n",
    "\n",
    "\"\"\"\n",
    "DON'T MODIFY ANYTHING IN THIS CELL THAT IS BELOW THIS LINE\n",
    "\"\"\"\n",
    "tests.test_train_nn(train_neural_network)"
   ]
  },
  {
   "cell_type": "markdown",
   "metadata": {},
   "source": [
    "### Show Stats\n",
    "Implement the function `print_stats` to print loss and validation accuracy.  Use the global variables `valid_features` and `valid_labels` to calculate validation accuracy.  Use a keep probability of `1.0` to calculate the loss and validation accuracy."
   ]
  },
  {
   "cell_type": "markdown",
   "metadata": {},
   "source": [
    "### 显示状态\n",
    "\n",
    "修改 `print_stats` 函数来打印 loss 值及验证准确率。 使用全局的变量 `valid_features` 及 `valid_labels` 来计算验证准确率。 设定保留概率为 1.0 来计算 loss 值及验证准确率。"
   ]
  },
  {
   "cell_type": "code",
   "execution_count": 14,
   "metadata": {
    "collapsed": true
   },
   "outputs": [],
   "source": [
    "def print_stats(session, feature_batch, label_batch, cost, accuracy):\n",
    "    \"\"\"\n",
    "    Print information about loss and validation accuracy\n",
    "    : session: Current TensorFlow session\n",
    "    : feature_batch: Batch of Numpy image data\n",
    "    : label_batch: Batch of Numpy label data\n",
    "    : cost: TensorFlow cost function\n",
    "    : accuracy: TensorFlow accuracy function\n",
    "    \"\"\"\n",
    "    # TODO: Implement Function\n",
    "    \n",
    "    # loss\n",
    "    loss = session.run(cost, feed_dict={x:feature_batch, y:label_batch, keep_prob:1.0})\n",
    "    \n",
    "    # accuracy\n",
    "    valid_accuracy = session.run(accuracy, feed_dict={x:valid_features, y:valid_labels, keep_prob:1.0})\n",
    "    print('Accuracy is:', valid_accuracy, 'Loss is:', loss)\n",
    "    \n",
    "    pass\n"
   ]
  },
  {
   "cell_type": "markdown",
   "metadata": {},
   "source": [
    "### Hyperparameters\n",
    "Tune the following parameters:\n",
    "* Set `epochs` to the number of iterations until the network stops learning or start overfitting\n",
    "* Set `batch_size` to the highest number that your machine has memory for.  Most people set them to common sizes of memory:\n",
    " * 64\n",
    " * 128\n",
    " * 256\n",
    " * ...\n",
    "* Set `keep_probability` to the probability of keeping a node using dropout"
   ]
  },
  {
   "cell_type": "markdown",
   "metadata": {},
   "source": [
    "### 超参数调节\n",
    "\n",
    "你需要调节如下的参数：\n",
    "* 设定 `epoches` 为模型停止学习或开始过拟合时模型的迭代次数。\n",
    "* 设定 `batch_size` 为你内存能支持的最大值。一般我们设定该值为：\n",
    " * 64\n",
    " * 128\n",
    " * 256\n",
    " * ...\n",
    "* 设定 `keep_probability` 为在 dropout 过程中保留一个节点的概率。"
   ]
  },
  {
   "cell_type": "code",
   "execution_count": null,
   "metadata": {
    "collapsed": true
   },
   "outputs": [],
   "source": [
    "# TODO: Tune Parameters\n",
    "epochs = 1000\n",
    "batch_size = 256\n",
    "keep_probability = 0.75"
   ]
  },
  {
   "cell_type": "markdown",
   "metadata": {},
   "source": [
    "### Train on a Single CIFAR-10 Batch\n",
    "Instead of training the neural network on all the CIFAR-10 batches of data, let's use a single batch. This should save time while you iterate on the model to get a better accuracy.  Once the final validation accuracy is 50% or greater, run the model on all the data in the next section."
   ]
  },
  {
   "cell_type": "markdown",
   "metadata": {},
   "source": [
    "### 对单批 CIFAR-10 数据进行训练\n",
    "\n",
    "相比于在所有 CIFAR-10 数据上训练神经网络，我们首先使用一批数据进行训练。这会帮助你在调节模型提高精度的过程中节省时间。当最终的验证精度超过 50% 之后，你就可以前往下一节在所有数据上运行该模型了。"
   ]
  },
  {
   "cell_type": "code",
   "execution_count": null,
   "metadata": {
    "scrolled": false
   },
   "outputs": [
    {
     "name": "stdout",
     "output_type": "stream",
     "text": [
      "Checking the Training on a Single Batch...\n",
      "Epoch  1, CIFAR-10 Batch 1:  Accuracy is: 0.1838 Loss is: 2.26074\n",
      "Epoch  2, CIFAR-10 Batch 1:  Accuracy is: 0.2688 Loss is: 2.14252\n",
      "Epoch  3, CIFAR-10 Batch 1:  Accuracy is: 0.3544 Loss is: 2.01825\n",
      "Epoch  4, CIFAR-10 Batch 1:  Accuracy is: 0.4006 Loss is: 1.82603\n",
      "Epoch  5, CIFAR-10 Batch 1:  Accuracy is: 0.4078 Loss is: 1.63201\n",
      "Epoch  6, CIFAR-10 Batch 1:  Accuracy is: 0.4388 Loss is: 1.56294\n",
      "Epoch  7, CIFAR-10 Batch 1:  Accuracy is: 0.459 Loss is: 1.45538\n",
      "Epoch  8, CIFAR-10 Batch 1:  Accuracy is: 0.4656 Loss is: 1.36966\n",
      "Epoch  9, CIFAR-10 Batch 1:  Accuracy is: 0.4806 Loss is: 1.25093\n",
      "Epoch 10, CIFAR-10 Batch 1:  Accuracy is: 0.497 Loss is: 1.16475\n",
      "Epoch 11, CIFAR-10 Batch 1:  Accuracy is: 0.4972 Loss is: 1.06447\n",
      "Epoch 12, CIFAR-10 Batch 1:  Accuracy is: 0.5014 Loss is: 1.00741\n",
      "Epoch 13, CIFAR-10 Batch 1:  Accuracy is: 0.4998 Loss is: 0.944136\n",
      "Epoch 14, CIFAR-10 Batch 1:  Accuracy is: 0.5078 Loss is: 0.839351\n",
      "Epoch 15, CIFAR-10 Batch 1:  Accuracy is: 0.5074 Loss is: 0.810029\n",
      "Epoch 16, CIFAR-10 Batch 1:  Accuracy is: 0.5028 Loss is: 0.740656\n",
      "Epoch 17, CIFAR-10 Batch 1:  Accuracy is: 0.5232 Loss is: 0.689767\n",
      "Epoch 18, CIFAR-10 Batch 1:  Accuracy is: 0.5178 Loss is: 0.632133\n",
      "Epoch 19, CIFAR-10 Batch 1:  Accuracy is: 0.5014 Loss is: 0.597753\n",
      "Epoch 20, CIFAR-10 Batch 1:  Accuracy is: 0.5256 Loss is: 0.529652\n",
      "Epoch 21, CIFAR-10 Batch 1:  Accuracy is: 0.5308 Loss is: 0.496856\n",
      "Epoch 22, CIFAR-10 Batch 1:  Accuracy is: 0.5362 Loss is: 0.438486\n",
      "Epoch 23, CIFAR-10 Batch 1:  Accuracy is: 0.5378 Loss is: 0.406039\n",
      "Epoch 24, CIFAR-10 Batch 1:  Accuracy is: 0.5396 Loss is: 0.357199\n",
      "Epoch 25, CIFAR-10 Batch 1:  Accuracy is: 0.5474 Loss is: 0.343454\n",
      "Epoch 26, CIFAR-10 Batch 1:  Accuracy is: 0.551 Loss is: 0.285439\n",
      "Epoch 27, CIFAR-10 Batch 1:  Accuracy is: 0.5496 Loss is: 0.307431\n",
      "Epoch 28, CIFAR-10 Batch 1:  Accuracy is: 0.5626 Loss is: 0.251279\n",
      "Epoch 29, CIFAR-10 Batch 1:  Accuracy is: 0.5512 Loss is: 0.238015\n",
      "Epoch 30, CIFAR-10 Batch 1:  Accuracy is: 0.5432 Loss is: 0.232508\n",
      "Epoch 31, CIFAR-10 Batch 1:  Accuracy is: 0.5534 Loss is: 0.225256\n",
      "Epoch 32, CIFAR-10 Batch 1:  Accuracy is: 0.5534 Loss is: 0.20547\n",
      "Epoch 33, CIFAR-10 Batch 1:  Accuracy is: 0.5656 Loss is: 0.195616\n",
      "Epoch 34, CIFAR-10 Batch 1:  Accuracy is: 0.5614 Loss is: 0.178661\n",
      "Epoch 35, CIFAR-10 Batch 1:  Accuracy is: 0.5736 Loss is: 0.15319\n",
      "Epoch 36, CIFAR-10 Batch 1:  Accuracy is: 0.5608 Loss is: 0.148233\n",
      "Epoch 37, CIFAR-10 Batch 1:  Accuracy is: 0.5586 Loss is: 0.136064\n",
      "Epoch 38, CIFAR-10 Batch 1:  Accuracy is: 0.5632 Loss is: 0.112661\n",
      "Epoch 39, CIFAR-10 Batch 1:  Accuracy is: 0.5678 Loss is: 0.102103\n",
      "Epoch 40, CIFAR-10 Batch 1:  Accuracy is: 0.5658 Loss is: 0.11238\n",
      "Epoch 41, CIFAR-10 Batch 1:  Accuracy is: 0.5328 Loss is: 0.083265\n",
      "Epoch 42, CIFAR-10 Batch 1:  Accuracy is: 0.5558 Loss is: 0.0966971\n",
      "Epoch 43, CIFAR-10 Batch 1:  Accuracy is: 0.5582 Loss is: 0.0850785\n",
      "Epoch 44, CIFAR-10 Batch 1:  Accuracy is: 0.551 Loss is: 0.0806208\n",
      "Epoch 45, CIFAR-10 Batch 1:  Accuracy is: 0.5626 Loss is: 0.0708882\n",
      "Epoch 46, CIFAR-10 Batch 1:  Accuracy is: 0.5444 Loss is: 0.0691138\n",
      "Epoch 47, CIFAR-10 Batch 1:  Accuracy is: 0.5444 Loss is: 0.0500571\n",
      "Epoch 48, CIFAR-10 Batch 1:  Accuracy is: 0.5484 Loss is: 0.0643864\n",
      "Epoch 49, CIFAR-10 Batch 1:  Accuracy is: 0.5484 Loss is: 0.071305\n",
      "Epoch 50, CIFAR-10 Batch 1:  Accuracy is: 0.5638 Loss is: 0.0514438\n",
      "Epoch 51, CIFAR-10 Batch 1:  Accuracy is: 0.565 Loss is: 0.0370725\n",
      "Epoch 52, CIFAR-10 Batch 1:  Accuracy is: 0.54 Loss is: 0.0606362\n",
      "Epoch 53, CIFAR-10 Batch 1:  Accuracy is: 0.5532 Loss is: 0.0375859\n",
      "Epoch 54, CIFAR-10 Batch 1:  Accuracy is: 0.5506 Loss is: 0.0382201\n",
      "Epoch 55, CIFAR-10 Batch 1:  Accuracy is: 0.557 Loss is: 0.0294664\n",
      "Epoch 56, CIFAR-10 Batch 1:  Accuracy is: 0.5626 Loss is: 0.0380853\n",
      "Epoch 57, CIFAR-10 Batch 1:  Accuracy is: 0.5676 Loss is: 0.0300742\n",
      "Epoch 58, CIFAR-10 Batch 1:  Accuracy is: 0.5614 Loss is: 0.0346976\n",
      "Epoch 59, CIFAR-10 Batch 1:  Accuracy is: 0.5672 Loss is: 0.030203\n",
      "Epoch 60, CIFAR-10 Batch 1:  Accuracy is: 0.5718 Loss is: 0.025357\n",
      "Epoch 61, CIFAR-10 Batch 1:  Accuracy is: 0.567 Loss is: 0.0278687\n",
      "Epoch 62, CIFAR-10 Batch 1:  Accuracy is: 0.5648 Loss is: 0.0255486\n",
      "Epoch 63, CIFAR-10 Batch 1:  Accuracy is: 0.56 Loss is: 0.0220356\n",
      "Epoch 64, CIFAR-10 Batch 1:  Accuracy is: 0.5622 Loss is: 0.0180987\n",
      "Epoch 65, CIFAR-10 Batch 1:  Accuracy is: 0.563 Loss is: 0.0180369\n",
      "Epoch 66, CIFAR-10 Batch 1:  Accuracy is: 0.5562 Loss is: 0.020519\n",
      "Epoch 67, CIFAR-10 Batch 1:  Accuracy is: 0.5616 Loss is: 0.0248157\n",
      "Epoch 68, CIFAR-10 Batch 1:  Accuracy is: 0.5524 Loss is: 0.01645\n",
      "Epoch 69, CIFAR-10 Batch 1:  Accuracy is: 0.5516 Loss is: 0.0310119\n",
      "Epoch 70, CIFAR-10 Batch 1:  Accuracy is: 0.5608 Loss is: 0.0202336\n",
      "Epoch 71, CIFAR-10 Batch 1:  Accuracy is: 0.5614 Loss is: 0.0128345\n",
      "Epoch 72, CIFAR-10 Batch 1:  Accuracy is: 0.564 Loss is: 0.0173\n",
      "Epoch 73, CIFAR-10 Batch 1:  Accuracy is: 0.5558 Loss is: 0.0171841\n",
      "Epoch 74, CIFAR-10 Batch 1:  Accuracy is: 0.5484 Loss is: 0.00911211\n",
      "Epoch 75, CIFAR-10 Batch 1:  Accuracy is: 0.5614 Loss is: 0.0103908\n",
      "Epoch 76, CIFAR-10 Batch 1:  Accuracy is: 0.5542 Loss is: 0.0125511\n",
      "Epoch 77, CIFAR-10 Batch 1:  Accuracy is: 0.5656 Loss is: 0.00696483\n",
      "Epoch 78, CIFAR-10 Batch 1:  Accuracy is: 0.5444 Loss is: 0.0155195\n",
      "Epoch 79, CIFAR-10 Batch 1:  Accuracy is: 0.5666 Loss is: 0.0115823\n",
      "Epoch 80, CIFAR-10 Batch 1:  Accuracy is: 0.5478 Loss is: 0.0116687\n",
      "Epoch 81, CIFAR-10 Batch 1:  Accuracy is: 0.5422 Loss is: 0.0109461\n",
      "Epoch 82, CIFAR-10 Batch 1:  Accuracy is: 0.5604 Loss is: 0.00988898\n",
      "Epoch 83, CIFAR-10 Batch 1:  Accuracy is: 0.5672 Loss is: 0.00883311\n",
      "Epoch 84, CIFAR-10 Batch 1:  Accuracy is: 0.5634 Loss is: 0.00765521\n",
      "Epoch 85, CIFAR-10 Batch 1:  Accuracy is: 0.5544 Loss is: 0.00700627\n",
      "Epoch 86, CIFAR-10 Batch 1:  Accuracy is: 0.5628 Loss is: 0.00962873\n",
      "Epoch 87, CIFAR-10 Batch 1:  Accuracy is: 0.5552 Loss is: 0.00309137\n",
      "Epoch 88, CIFAR-10 Batch 1:  Accuracy is: 0.5618 Loss is: 0.00668385\n",
      "Epoch 89, CIFAR-10 Batch 1:  Accuracy is: 0.5566 Loss is: 0.00914861\n",
      "Epoch 90, CIFAR-10 Batch 1:  Accuracy is: 0.5602 Loss is: 0.00882494\n",
      "Epoch 91, CIFAR-10 Batch 1:  Accuracy is: 0.5624 Loss is: 0.00555856\n",
      "Epoch 92, CIFAR-10 Batch 1:  Accuracy is: 0.5668 Loss is: 0.00687377\n",
      "Epoch 93, CIFAR-10 Batch 1:  Accuracy is: 0.5594 Loss is: 0.00859309\n",
      "Epoch 94, CIFAR-10 Batch 1:  Accuracy is: 0.5606 Loss is: 0.00726108\n",
      "Epoch 95, CIFAR-10 Batch 1:  Accuracy is: 0.5568 Loss is: 0.00865538\n",
      "Epoch 96, CIFAR-10 Batch 1:  Accuracy is: 0.5638 Loss is: 0.00745669\n",
      "Epoch 97, CIFAR-10 Batch 1:  Accuracy is: 0.5582 Loss is: 0.00574944\n",
      "Epoch 98, CIFAR-10 Batch 1:  Accuracy is: 0.558 Loss is: 0.00772484\n",
      "Epoch 99, CIFAR-10 Batch 1:  Accuracy is: 0.555 Loss is: 0.00396359\n",
      "Epoch 100, CIFAR-10 Batch 1:  Accuracy is: 0.5452 Loss is: 0.0053558\n",
      "Epoch 101, CIFAR-10 Batch 1:  Accuracy is: 0.548 Loss is: 0.00354197\n",
      "Epoch 102, CIFAR-10 Batch 1:  Accuracy is: 0.5526 Loss is: 0.00430526\n",
      "Epoch 103, CIFAR-10 Batch 1:  Accuracy is: 0.5496 Loss is: 0.00355224\n",
      "Epoch 104, CIFAR-10 Batch 1:  Accuracy is: 0.551 Loss is: 0.0106948\n",
      "Epoch 105, CIFAR-10 Batch 1:  Accuracy is: 0.5526 Loss is: 0.00497695\n",
      "Epoch 106, CIFAR-10 Batch 1:  Accuracy is: 0.5632 Loss is: 0.00557716\n",
      "Epoch 107, CIFAR-10 Batch 1:  Accuracy is: 0.552 Loss is: 0.00374328\n",
      "Epoch 108, CIFAR-10 Batch 1:  Accuracy is: 0.5438 Loss is: 0.00542917\n",
      "Epoch 109, CIFAR-10 Batch 1:  Accuracy is: 0.5368 Loss is: 0.00750626\n",
      "Epoch 110, CIFAR-10 Batch 1:  Accuracy is: 0.552 Loss is: 0.00702762\n",
      "Epoch 111, CIFAR-10 Batch 1:  Accuracy is: 0.5566 Loss is: 0.00327039\n",
      "Epoch 112, CIFAR-10 Batch 1:  Accuracy is: 0.5556 Loss is: 0.00492324\n",
      "Epoch 113, CIFAR-10 Batch 1:  Accuracy is: 0.5526 Loss is: 0.00541979\n",
      "Epoch 114, CIFAR-10 Batch 1:  Accuracy is: 0.5502 Loss is: 0.00376592\n",
      "Epoch 115, CIFAR-10 Batch 1:  Accuracy is: 0.5548 Loss is: 0.00308919\n",
      "Epoch 116, CIFAR-10 Batch 1:  Accuracy is: 0.5562 Loss is: 0.00571754\n",
      "Epoch 117, CIFAR-10 Batch 1:  Accuracy is: 0.5666 Loss is: 0.00327545\n",
      "Epoch 118, CIFAR-10 Batch 1:  Accuracy is: 0.5592 Loss is: 0.00304286\n",
      "Epoch 119, CIFAR-10 Batch 1:  Accuracy is: 0.5616 Loss is: 0.00191219\n",
      "Epoch 120, CIFAR-10 Batch 1:  Accuracy is: 0.559 Loss is: 0.00224974\n"
     ]
    },
    {
     "name": "stdout",
     "output_type": "stream",
     "text": [
      "Epoch 121, CIFAR-10 Batch 1:  Accuracy is: 0.5684 Loss is: 0.00235471\n",
      "Epoch 122, CIFAR-10 Batch 1:  Accuracy is: 0.5682 Loss is: 0.00239356\n",
      "Epoch 123, CIFAR-10 Batch 1:  Accuracy is: 0.5616 Loss is: 0.00125361\n",
      "Epoch 124, CIFAR-10 Batch 1:  Accuracy is: 0.564 Loss is: 0.00155274\n",
      "Epoch 125, CIFAR-10 Batch 1:  Accuracy is: 0.5636 Loss is: 0.00116649\n",
      "Epoch 126, CIFAR-10 Batch 1:  Accuracy is: 0.5472 Loss is: 0.00215478\n",
      "Epoch 127, CIFAR-10 Batch 1:  Accuracy is: 0.5464 Loss is: 0.00284024\n",
      "Epoch 128, CIFAR-10 Batch 1:  Accuracy is: 0.5536 Loss is: 0.000992026\n",
      "Epoch 129, CIFAR-10 Batch 1:  Accuracy is: 0.5672 Loss is: 0.0009284\n",
      "Epoch 130, CIFAR-10 Batch 1:  Accuracy is: 0.5594 Loss is: 0.00110068\n",
      "Epoch 131, CIFAR-10 Batch 1:  Accuracy is: 0.5678 Loss is: 0.00188364\n",
      "Epoch 132, CIFAR-10 Batch 1:  Accuracy is: 0.5664 Loss is: 0.00104084\n",
      "Epoch 133, CIFAR-10 Batch 1:  Accuracy is: 0.57 Loss is: 0.000855955\n",
      "Epoch 134, CIFAR-10 Batch 1:  Accuracy is: 0.5594 Loss is: 0.00135399\n",
      "Epoch 135, CIFAR-10 Batch 1:  Accuracy is: 0.5528 Loss is: 0.00108227\n",
      "Epoch 136, CIFAR-10 Batch 1:  Accuracy is: 0.5576 Loss is: 0.00138179\n",
      "Epoch 137, CIFAR-10 Batch 1:  Accuracy is: 0.5656 Loss is: 0.00167539\n",
      "Epoch 138, CIFAR-10 Batch 1:  Accuracy is: 0.565 Loss is: 0.00088203\n",
      "Epoch 139, CIFAR-10 Batch 1:  Accuracy is: 0.566 Loss is: 0.000899399\n",
      "Epoch 140, CIFAR-10 Batch 1:  Accuracy is: 0.5586 Loss is: 0.000328136\n",
      "Epoch 141, CIFAR-10 Batch 1:  Accuracy is: 0.5638 Loss is: 0.000680341\n",
      "Epoch 142, CIFAR-10 Batch 1:  Accuracy is: 0.563 Loss is: 0.000749234\n",
      "Epoch 143, CIFAR-10 Batch 1:  Accuracy is: 0.5586 Loss is: 0.00127355\n",
      "Epoch 144, CIFAR-10 Batch 1:  Accuracy is: 0.5608 Loss is: 0.000511601\n",
      "Epoch 145, CIFAR-10 Batch 1:  Accuracy is: 0.5544 Loss is: 0.000837085\n",
      "Epoch 146, CIFAR-10 Batch 1:  Accuracy is: 0.5648 Loss is: 0.000964598\n",
      "Epoch 147, CIFAR-10 Batch 1:  Accuracy is: 0.5592 Loss is: 0.00111145\n",
      "Epoch 148, CIFAR-10 Batch 1:  Accuracy is: 0.5634 Loss is: 0.000523561\n",
      "Epoch 149, CIFAR-10 Batch 1:  Accuracy is: 0.567 Loss is: 0.000702775\n",
      "Epoch 150, CIFAR-10 Batch 1:  Accuracy is: 0.5646 Loss is: 0.00024303\n",
      "Epoch 151, CIFAR-10 Batch 1:  Accuracy is: 0.5658 Loss is: 0.000798052\n",
      "Epoch 152, CIFAR-10 Batch 1:  Accuracy is: 0.571 Loss is: 0.000526155\n",
      "Epoch 153, CIFAR-10 Batch 1:  Accuracy is: 0.5572 Loss is: 0.000782544\n",
      "Epoch 154, CIFAR-10 Batch 1:  Accuracy is: 0.5692 Loss is: 0.000880648\n",
      "Epoch 155, CIFAR-10 Batch 1:  Accuracy is: 0.5616 Loss is: 0.000463724\n",
      "Epoch 156, CIFAR-10 Batch 1:  Accuracy is: 0.561 Loss is: 0.000387565\n",
      "Epoch 157, CIFAR-10 Batch 1:  Accuracy is: 0.5678 Loss is: 0.000263725\n",
      "Epoch 158, CIFAR-10 Batch 1:  Accuracy is: 0.5644 Loss is: 0.000229926\n",
      "Epoch 159, CIFAR-10 Batch 1:  Accuracy is: 0.565 Loss is: 0.000243364\n",
      "Epoch 160, CIFAR-10 Batch 1:  Accuracy is: 0.5616 Loss is: 0.000177259\n",
      "Epoch 161, CIFAR-10 Batch 1:  Accuracy is: 0.5706 Loss is: 0.000625035\n",
      "Epoch 162, CIFAR-10 Batch 1:  Accuracy is: 0.5534 Loss is: 0.00135439\n",
      "Epoch 163, CIFAR-10 Batch 1:  Accuracy is: 0.5672 Loss is: 0.000362259\n",
      "Epoch 164, CIFAR-10 Batch 1:  Accuracy is: 0.568 Loss is: 0.000473966\n",
      "Epoch 165, CIFAR-10 Batch 1:  Accuracy is: 0.5726 Loss is: 0.000189561\n",
      "Epoch 166, CIFAR-10 Batch 1:  Accuracy is: 0.5736 Loss is: 0.000311027\n",
      "Epoch 167, CIFAR-10 Batch 1:  Accuracy is: 0.5634 Loss is: 0.000202724\n",
      "Epoch 168, CIFAR-10 Batch 1:  Accuracy is: 0.568 Loss is: 0.000187225\n",
      "Epoch 169, CIFAR-10 Batch 1:  Accuracy is: 0.5654 Loss is: 0.000332818\n",
      "Epoch 170, CIFAR-10 Batch 1:  Accuracy is: 0.5468 Loss is: 0.000866262\n",
      "Epoch 171, CIFAR-10 Batch 1:  Accuracy is: 0.5664 Loss is: 0.000432108\n",
      "Epoch 172, CIFAR-10 Batch 1:  Accuracy is: 0.567 Loss is: 0.000327575\n",
      "Epoch 173, CIFAR-10 Batch 1:  Accuracy is: 0.57 Loss is: 0.000151735\n",
      "Epoch 174, CIFAR-10 Batch 1:  Accuracy is: 0.5684 Loss is: 0.000389614\n",
      "Epoch 175, CIFAR-10 Batch 1:  Accuracy is: 0.567 Loss is: 0.000477819\n",
      "Epoch 176, CIFAR-10 Batch 1:  Accuracy is: 0.5616 Loss is: 0.000194386\n",
      "Epoch 177, CIFAR-10 Batch 1:  Accuracy is: 0.5598 Loss is: 0.000260795\n",
      "Epoch 178, CIFAR-10 Batch 1:  Accuracy is: 0.5606 Loss is: 0.000175373\n",
      "Epoch 179, CIFAR-10 Batch 1:  Accuracy is: 0.5682 Loss is: 0.000128166\n",
      "Epoch 180, CIFAR-10 Batch 1:  Accuracy is: 0.5666 Loss is: 9.2829e-05\n",
      "Epoch 181, CIFAR-10 Batch 1:  Accuracy is: 0.5634 Loss is: 0.000202638\n",
      "Epoch 182, CIFAR-10 Batch 1:  Accuracy is: 0.5628 Loss is: 0.000163058\n",
      "Epoch 183, CIFAR-10 Batch 1:  Accuracy is: 0.5662 Loss is: 0.000121699\n",
      "Epoch 184, CIFAR-10 Batch 1:  Accuracy is: 0.5714 Loss is: 0.000111996\n",
      "Epoch 185, CIFAR-10 Batch 1:  Accuracy is: 0.564 Loss is: 6.44785e-05\n",
      "Epoch 186, CIFAR-10 Batch 1:  Accuracy is: 0.5636 Loss is: 0.000251335\n",
      "Epoch 187, CIFAR-10 Batch 1:  Accuracy is: 0.5624 Loss is: 9.98264e-05\n",
      "Epoch 188, CIFAR-10 Batch 1:  Accuracy is: 0.5634 Loss is: 0.000166605\n",
      "Epoch 189, CIFAR-10 Batch 1:  Accuracy is: 0.5528 Loss is: 0.000333892\n",
      "Epoch 190, CIFAR-10 Batch 1:  Accuracy is: 0.5596 Loss is: 0.000133256\n",
      "Epoch 191, CIFAR-10 Batch 1:  Accuracy is: 0.5556 Loss is: 0.000152555\n",
      "Epoch 192, CIFAR-10 Batch 1:  Accuracy is: 0.5692 Loss is: 9.12611e-05\n",
      "Epoch 193, CIFAR-10 Batch 1:  Accuracy is: 0.5514 Loss is: 0.000222009\n",
      "Epoch 194, CIFAR-10 Batch 1:  Accuracy is: 0.5618 Loss is: 8.54995e-05\n",
      "Epoch 195, CIFAR-10 Batch 1:  Accuracy is: 0.5582 Loss is: 0.000119157\n",
      "Epoch 196, CIFAR-10 Batch 1:  Accuracy is: 0.5612 Loss is: 0.000155582\n",
      "Epoch 197, CIFAR-10 Batch 1:  Accuracy is: 0.5706 Loss is: 0.00011403\n",
      "Epoch 198, CIFAR-10 Batch 1:  Accuracy is: 0.5664 Loss is: 0.000229377\n",
      "Epoch 199, CIFAR-10 Batch 1:  Accuracy is: 0.5692 Loss is: 0.000273933\n",
      "Epoch 200, CIFAR-10 Batch 1:  Accuracy is: 0.5634 Loss is: 7.55567e-05\n",
      "Epoch 201, CIFAR-10 Batch 1:  Accuracy is: 0.5594 Loss is: 7.04197e-05\n",
      "Epoch 202, CIFAR-10 Batch 1:  Accuracy is: 0.5668 Loss is: 8.58057e-05\n",
      "Epoch 203, CIFAR-10 Batch 1:  Accuracy is: 0.5662 Loss is: 0.000100132\n",
      "Epoch 204, CIFAR-10 Batch 1:  Accuracy is: 0.5648 Loss is: 9.9105e-05\n",
      "Epoch 205, CIFAR-10 Batch 1:  Accuracy is: 0.5616 Loss is: 0.000433634\n",
      "Epoch 206, CIFAR-10 Batch 1:  Accuracy is: 0.5572 Loss is: 0.000131781\n",
      "Epoch 207, CIFAR-10 Batch 1:  Accuracy is: 0.5608 Loss is: 8.52953e-05\n",
      "Epoch 208, CIFAR-10 Batch 1:  Accuracy is: 0.5712 Loss is: 6.4555e-05\n",
      "Epoch 209, CIFAR-10 Batch 1:  Accuracy is: 0.5714 Loss is: 0.000100808\n",
      "Epoch 210, CIFAR-10 Batch 1:  Accuracy is: 0.5638 Loss is: 0.000114785\n",
      "Epoch 211, CIFAR-10 Batch 1:  Accuracy is: 0.564 Loss is: 0.000175669\n",
      "Epoch 212, CIFAR-10 Batch 1:  Accuracy is: 0.5592 Loss is: 0.00054737\n",
      "Epoch 213, CIFAR-10 Batch 1:  Accuracy is: 0.5608 Loss is: 0.000503453\n",
      "Epoch 214, CIFAR-10 Batch 1:  Accuracy is: 0.5576 Loss is: 0.0010559\n",
      "Epoch 215, CIFAR-10 Batch 1:  Accuracy is: 0.573 Loss is: 7.28417e-05\n",
      "Epoch 216, CIFAR-10 Batch 1:  Accuracy is: 0.561 Loss is: 0.000480987\n",
      "Epoch 217, CIFAR-10 Batch 1:  Accuracy is: 0.5588 Loss is: 0.000149731\n",
      "Epoch 218, CIFAR-10 Batch 1:  Accuracy is: 0.5514 Loss is: 0.000438586\n",
      "Epoch 219, CIFAR-10 Batch 1:  Accuracy is: 0.558 Loss is: 8.62072e-05\n",
      "Epoch 220, CIFAR-10 Batch 1:  Accuracy is: 0.56 Loss is: 4.91408e-05\n",
      "Epoch 221, CIFAR-10 Batch 1:  Accuracy is: 0.565 Loss is: 3.18905e-05\n"
     ]
    }
   ],
   "source": [
    "\"\"\"\n",
    "DON'T MODIFY ANYTHING IN THIS CELL\n",
    "\"\"\"\n",
    "print('Checking the Training on a Single Batch...')\n",
    "with tf.Session() as sess:\n",
    "    # Initializing the variables \n",
    "    sess.run(tf.global_variables_initializer())\n",
    "    \n",
    "    # Training cycle\n",
    "    for epoch in range(epochs):\n",
    "        batch_i = 1\n",
    "        for batch_features, batch_labels in helper.load_preprocess_training_batch(batch_i, batch_size):\n",
    "            train_neural_network(sess, optimizer, keep_probability, batch_features, batch_labels)\n",
    "        print('Epoch {:>2}, CIFAR-10 Batch {}:  '.format(epoch + 1, batch_i), end='')\n",
    "        print_stats(sess, batch_features, batch_labels, cost, accuracy)"
   ]
  },
  {
   "cell_type": "markdown",
   "metadata": {},
   "source": [
    "### Fully Train the Model\n",
    "Now that you got a good accuracy with a single CIFAR-10 batch, try it with all five batches."
   ]
  },
  {
   "cell_type": "markdown",
   "metadata": {},
   "source": [
    "### 完全训练该模型\n",
    "\n",
    "因为你在单批 CIFAR-10 数据上已经得到了一个不错的准确率了，那你可以尝试在所有五批数据上进行训练。"
   ]
  },
  {
   "cell_type": "code",
   "execution_count": null,
   "metadata": {
    "scrolled": false
   },
   "outputs": [],
   "source": [
    "\"\"\"\n",
    "DON'T MODIFY ANYTHING IN THIS CELL\n",
    "\"\"\"\n",
    "save_model_path = './image_classification'\n",
    "\n",
    "print('Training...')\n",
    "with tf.Session() as sess:\n",
    "    # Initializing the variables\n",
    "    sess.run(tf.global_variables_initializer())\n",
    "    \n",
    "    # Training cycle\n",
    "    for epoch in range(epochs):\n",
    "        # Loop over all batches\n",
    "        n_batches = 5\n",
    "        for batch_i in range(1, n_batches + 1):\n",
    "            for batch_features, batch_labels in helper.load_preprocess_training_batch(batch_i, batch_size):\n",
    "                train_neural_network(sess, optimizer, keep_probability, batch_features, batch_labels)\n",
    "            print('Epoch {:>2}, CIFAR-10 Batch {}:  '.format(epoch + 1, batch_i), end='')\n",
    "            print_stats(sess, batch_features, batch_labels, cost, accuracy)\n",
    "            \n",
    "    # Save Model\n",
    "    saver = tf.train.Saver()\n",
    "    save_path = saver.save(sess, save_model_path)"
   ]
  },
  {
   "cell_type": "markdown",
   "metadata": {},
   "source": [
    "# Checkpoint\n",
    "The model has been saved to disk.\n",
    "## Test Model\n",
    "Test your model against the test dataset.  This will be your final accuracy. You should have an accuracy greater than 50%. If you don't, keep tweaking the model architecture and parameters."
   ]
  },
  {
   "cell_type": "markdown",
   "metadata": {},
   "source": [
    "# 检查点\n",
    "\n",
    "该模型已经被存储到你的硬盘中。\n",
    "\n",
    "## 测试模型\n",
    "\n",
    "这部分将在测试数据集上测试你的模型。这边得到的准确率将作为你的最终准确率。你应该得到一个高于 50% 准确率。如果它没有超过 50%，那么你需要继续调整模型架构及参数。"
   ]
  },
  {
   "cell_type": "code",
   "execution_count": null,
   "metadata": {
    "collapsed": true
   },
   "outputs": [],
   "source": [
    "\"\"\"\n",
    "DON'T MODIFY ANYTHING IN THIS CELL\n",
    "\"\"\"\n",
    "%matplotlib inline\n",
    "%config InlineBackend.figure_format = 'retina'\n",
    "\n",
    "import tensorflow as tf\n",
    "import pickle\n",
    "import helper\n",
    "import random\n",
    "\n",
    "# Set batch size if not already set\n",
    "try:\n",
    "    if batch_size:\n",
    "        pass\n",
    "except NameError:\n",
    "    batch_size = 64\n",
    "\n",
    "save_model_path = './image_classification'\n",
    "n_samples = 4\n",
    "top_n_predictions = 3\n",
    "\n",
    "def test_model():\n",
    "    \"\"\"\n",
    "    Test the saved model against the test dataset\n",
    "    \"\"\"\n",
    "\n",
    "    test_features, test_labels = pickle.load(open('preprocess_training.p', mode='rb'))\n",
    "    loaded_graph = tf.Graph()\n",
    "\n",
    "    with tf.Session(graph=loaded_graph) as sess:\n",
    "        # Load model\n",
    "        loader = tf.train.import_meta_graph(save_model_path + '.meta')\n",
    "        loader.restore(sess, save_model_path)\n",
    "\n",
    "        # Get Tensors from loaded model\n",
    "        loaded_x = loaded_graph.get_tensor_by_name('x:0')\n",
    "        loaded_y = loaded_graph.get_tensor_by_name('y:0')\n",
    "        loaded_keep_prob = loaded_graph.get_tensor_by_name('keep_prob:0')\n",
    "        loaded_logits = loaded_graph.get_tensor_by_name('logits:0')\n",
    "        loaded_acc = loaded_graph.get_tensor_by_name('accuracy:0')\n",
    "        \n",
    "        # Get accuracy in batches for memory limitations\n",
    "        test_batch_acc_total = 0\n",
    "        test_batch_count = 0\n",
    "        \n",
    "        for train_feature_batch, train_label_batch in helper.batch_features_labels(test_features, test_labels, batch_size):\n",
    "            test_batch_acc_total += sess.run(\n",
    "                loaded_acc,\n",
    "                feed_dict={loaded_x: train_feature_batch, loaded_y: train_label_batch, loaded_keep_prob: 1.0})\n",
    "            test_batch_count += 1\n",
    "\n",
    "        print('Testing Accuracy: {}\\n'.format(test_batch_acc_total/test_batch_count))\n",
    "\n",
    "        # Print Random Samples\n",
    "        random_test_features, random_test_labels = tuple(zip(*random.sample(list(zip(test_features, test_labels)), n_samples)))\n",
    "        random_test_predictions = sess.run(\n",
    "            tf.nn.top_k(tf.nn.softmax(loaded_logits), top_n_predictions),\n",
    "            feed_dict={loaded_x: random_test_features, loaded_y: random_test_labels, loaded_keep_prob: 1.0})\n",
    "        helper.display_image_predictions(random_test_features, random_test_labels, random_test_predictions)\n",
    "\n",
    "\n",
    "test_model()"
   ]
  },
  {
   "cell_type": "markdown",
   "metadata": {},
   "source": [
    "## Why 50-80% Accuracy?\n",
    "You might be wondering why you can't get an accuracy any higher. First things first, 50% isn't bad for a simple CNN.  Pure guessing would get you 10% accuracy. That's because there are many more techniques that can be applied to your model and we recemmond that once you are done with this project, you explore!\n",
    "\n",
    "## Submitting This Project\n",
    "When submitting this project, make sure to run all the cells before saving the notebook.  Save the notebook file as \"image_classification.ipynb\" and save it as a HTML file under \"File\" -> \"Download as\".  Include the \"helper.py\" and \"problem_unittests.py\" files in your submission."
   ]
  },
  {
   "cell_type": "markdown",
   "metadata": {},
   "source": [
    "## 为什么仅有 50%~ 80% 的准确率？\n",
    "\n",
    "你也许会觉得奇怪，为什么你的准确率总是提高不上去。对于简单的 CNN 网络而言，50% 并非是很差的表现。纯粹的猜测只会得到 10% 的准确率（因为一共有 10 类）。这是因为还有许多许多能够应用到你模型的技巧。在你做完了该项目之后，你可以探索探索我们给你推荐的一些方法。\n",
    "\n",
    "\n",
    "## 提交该项目\n",
    "\n",
    "在提交项目前，请确保你在运行了所有的 cell 之后保存了项目。将项目储存为 \"image_classification.ipynb\" 并导出为一个 HTML 文件。你可以再菜单栏中选择 File -> Download as 进行导出。请将 \"helper.py\" 及  \"problem_unittests.py\" 文件也放在你的提交文件中。"
   ]
  },
  {
   "cell_type": "code",
   "execution_count": null,
   "metadata": {
    "collapsed": true
   },
   "outputs": [],
   "source": []
  }
 ],
 "metadata": {
  "anaconda-cloud": {},
  "kernelspec": {
   "display_name": "Python 3",
   "language": "python",
   "name": "python3"
  },
  "language_info": {
   "codemirror_mode": {
    "name": "ipython",
    "version": 3
   },
   "file_extension": ".py",
   "mimetype": "text/x-python",
   "name": "python",
   "nbconvert_exporter": "python",
   "pygments_lexer": "ipython3",
   "version": "3.5.3"
  }
 },
 "nbformat": 4,
 "nbformat_minor": 1
}
